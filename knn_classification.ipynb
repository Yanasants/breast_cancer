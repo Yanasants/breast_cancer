{
 "cells": [
  {
   "cell_type": "code",
   "execution_count": 1,
   "metadata": {},
   "outputs": [],
   "source": [
    "import warnings\n",
    "import pandas as pd\n",
    "from sklearn.model_selection import train_test_split \n",
    "from sklearn.preprocessing import StandardScaler  \n",
    "from sklearn.neighbors import KNeighborsClassifier  \n",
    "\n",
    "from functions import report"
   ]
  },
  {
   "cell_type": "code",
   "execution_count": 2,
   "metadata": {},
   "outputs": [],
   "source": [
    "warnings.filterwarnings(\"ignore\")\n",
    "\n",
    "mean_df = pd.read_csv('breast_cancer_data.csv')\n",
    "\n",
    "# Independent variables \n",
    "x = mean_df.drop('diagnosis', axis=1)\n",
    "# Dependent variables\n",
    "y = mean_df['diagnosis']\n",
    "\n",
    "# Subdividing training and testing data\n",
    "x_train,x_test,y_train,y_test = train_test_split(x,y, test_size=0.2)\n"
   ]
  },
  {
   "cell_type": "code",
   "execution_count": 3,
   "metadata": {},
   "outputs": [
    {
     "name": "stdout",
     "output_type": "stream",
     "text": [
      "Predicting with K-Value 1\n",
      "Predicting with K-Value 2\n",
      "Predicting with K-Value 3\n",
      "Predicting with K-Value 4\n",
      "Predicting with K-Value 5\n",
      "Predicting with K-Value 6\n",
      "Predicting with K-Value 7\n",
      "Predicting with K-Value 8\n",
      "Predicting with K-Value 9\n",
      "Execution 10 finished.\n",
      "Results were saved on results_exec_10.csv\n"
     ]
    }
   ],
   "source": [
    "# Must be manually changed after kernel restarting\n",
    "number_of_execution = 10\n",
    "\n",
    "all_exec_df = []\n",
    "\n",
    "for k in range(1,10):\n",
    "    print(f'Predicting with K-Value {k}')\n",
    "    y_pred = KNeighborsClassifier(n_neighbors=k).fit(x_train, y_train).predict(x_test)\n",
    "    df_report = report(K_value=k, y_test=y_test, y_pred=y_pred)\n",
    "    all_exec_df.append(df_report)\n",
    "\n",
    "output = pd.concat(all_exec_df).reset_index()\n",
    "output.rename(columns={'index':'diagnosis'}, inplace=True)\n",
    "\n",
    "output.to_csv(f'results_exec_{number_of_execution}.csv')\n",
    "\n",
    "print(f'Execution {number_of_execution} finished.\\nResults were saved on results_exec_{number_of_execution}.csv')"
   ]
  }
 ],
 "metadata": {
  "kernelspec": {
   "display_name": "Python 3.8.6 64-bit",
   "language": "python",
   "name": "python3"
  },
  "language_info": {
   "codemirror_mode": {
    "name": "ipython",
    "version": 3
   },
   "file_extension": ".py",
   "mimetype": "text/x-python",
   "name": "python",
   "nbconvert_exporter": "python",
   "pygments_lexer": "ipython3",
   "version": "3.8.6"
  },
  "orig_nbformat": 4,
  "vscode": {
   "interpreter": {
    "hash": "ce49d75d664714c9cdbfe0585b0b7902633ae41f45bc5554d08d9dd78a3267a6"
   }
  }
 },
 "nbformat": 4,
 "nbformat_minor": 2
}
