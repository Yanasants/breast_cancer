{
 "cells": [
  {
   "cell_type": "code",
   "execution_count": 57,
   "metadata": {},
   "outputs": [],
   "source": [
    "import warnings\n",
    "import pandas as pd\n",
    "\n",
    "from sklearn.model_selection import train_test_split \n",
    "from sklearn.preprocessing import StandardScaler  \n",
    "from sklearn.neighbors import KNeighborsClassifier  \n",
    "\n",
    "from functions_analysis import report"
   ]
  },
  {
   "cell_type": "code",
   "execution_count": 49,
   "metadata": {},
   "outputs": [],
   "source": [
    "warnings.filterwarnings(\"ignore\")\n",
    "\n",
    "mean_df = pd.read_csv('breast_cancer_data.csv')\n",
    "\n",
    "# Independent variables \n",
    "x = mean_df.drop('diagnosis', axis=1)\n",
    "# Dependent variables\n",
    "y = mean_df['diagnosis']\n",
    "\n",
    "# Subdividing training and testing data\n",
    "x_train,x_test,y_train,y_test = train_test_split(x,y, test_size=0.2)\n"
   ]
  },
  {
   "cell_type": "code",
   "execution_count": 50,
   "metadata": {},
   "outputs": [],
   "source": [
    "# standardizing the scale\n",
    "scaler = StandardScaler()\n",
    "scaler.fit(x_train)\n",
    "x_train = scaler.transform(x_train)\n",
    "x_test = scaler.transform(x_test)"
   ]
  },
  {
   "cell_type": "code",
   "execution_count": 70,
   "metadata": {},
   "outputs": [
    {
     "name": "stdout",
     "output_type": "stream",
     "text": [
      "Execution 10 finished.\n",
      "Results were saved on results_exec_10.csv\n"
     ]
    }
   ],
   "source": [
    "# Must be manually changed after kernel restarting\n",
    "number_of_execution = 10\n",
    "\n",
    "all_exec_df = []\n",
    "\n",
    "for k in range(1,10):\n",
    "    knn = KNeighborsClassifier(n_neighbors=k)\n",
    "    knn.fit(x_train, y_train)\n",
    "    y_pred = knn.predict(x_test)\n",
    "    df_report = report(K_value=k, y_test=y_test, y_pred=y_pred)\n",
    "    all_exec_df.append(df_report)\n",
    "\n",
    "output = pd.concat(all_exec_df).reset_index()\n",
    "output.rename(columns={'index':'diagnosis'}, inplace=True)\n",
    "\n",
    "output.to_csv(f'results_exec_{number_of_execution}.csv')\n",
    "\n",
    "print(f'Execution {number_of_execution} finished.\\nResults were saved on results_exec_{number_of_execution}.csv')"
   ]
  }
 ],
 "metadata": {
  "kernelspec": {
   "display_name": "Python 3.8.6 64-bit",
   "language": "python",
   "name": "python3"
  },
  "language_info": {
   "codemirror_mode": {
    "name": "ipython",
    "version": 3
   },
   "file_extension": ".py",
   "mimetype": "text/x-python",
   "name": "python",
   "nbconvert_exporter": "python",
   "pygments_lexer": "ipython3",
   "version": "3.8.6"
  },
  "orig_nbformat": 4,
  "vscode": {
   "interpreter": {
    "hash": "ce49d75d664714c9cdbfe0585b0b7902633ae41f45bc5554d08d9dd78a3267a6"
   }
  }
 },
 "nbformat": 4,
 "nbformat_minor": 2
}
